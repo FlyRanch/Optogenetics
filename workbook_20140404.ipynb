{
 "metadata": {
  "name": "workbook_20140404"
 },
 "nbformat": 3,
 "nbformat_minor": 0,
 "worksheets": [
  {
   "cells": [
    {
     "cell_type": "raw",
     "metadata": {},
     "source": [
      "Analysis of preliminary Reach experiments on 67B08 and 81B11 drivers crossed to ReaChR (U70) "
     ]
    },
    {
     "cell_type": "code",
     "collapsed": false,
     "input": [
      "import sys\n",
      "import json\n",
      "import os\n",
      "import random\n",
      "paramfile = open('params.json','rb')\n",
      "params = json.load(paramfile)\n",
      "rootpath = params['platform_paths'][sys.platform] + params['root_dir']"
     ],
     "language": "python",
     "metadata": {},
     "outputs": [],
     "prompt_number": 114
    },
    {
     "cell_type": "code",
     "collapsed": false,
     "input": [
      "import flylib as flb"
     ],
     "language": "python",
     "metadata": {},
     "outputs": [],
     "prompt_number": 115
    },
    {
     "cell_type": "raw",
     "metadata": {},
     "source": [
      "['Xpos', 'WBSync', 'Photostim', 'Ypos', 'CamSync', 'CamTrig', 'Ph1', 'LeftWing', 'Ph2', 'RightWing', 'Ph0', 'AMsysCh1']"
     ]
    },
    {
     "cell_type": "code",
     "collapsed": false,
     "input": [
      "def plot_trigger_summary(signals,num_sweeps = 30,example = 17):\n",
      "    #plot two subplots one with example trigger the othere with an overlay\n",
      "    num_sweeps = 30\n",
      "    triggers = flb.idx_by_thresh(signals['Photostim']*-1,-0.5)\n",
      "    example = 17\n",
      "    ax0 = subplot(3,1,1)\n",
      "    trig = triggers[example]\n",
      "    chunkrange = slice(trig[0]-10000,trig[-1]+50000,2)\n",
      "    times = signals['AMsysCh1'][chunkrange].times\n",
      "    times -= times[0]\n",
      "    plot(times,signals['AMsysCh1'][chunkrange]*-1,color = 'k',alpha = 0.5)\n",
      "    ax1 = subplot(3,1,2,sharex = ax0,sharey = ax0)\n",
      "    for i,trig in enumerate(random.sample(triggers,num_sweeps)):\n",
      "        chunkrange = slice(trig[0]-10000,trig[-1]+50000,2)\n",
      "        times = signals['AMsysCh1'][chunkrange].times\n",
      "        times -= times[0]\n",
      "        plot(times,signals['AMsysCh1'][chunkrange]*-1,color = 'k',alpha = 0.5)   \n",
      "    ax2 = subplot(3,1,3,sharex = ax0)\n",
      "    plot(times,signals['Photostim'][chunkrange])\n",
      "    ax0.set_xbound([0,0.5])\n",
      "    ax0.set_ybound([-30,30])"
     ],
     "language": "python",
     "metadata": {},
     "outputs": [],
     "prompt_number": 109
    },
    {
     "cell_type": "code",
     "collapsed": false,
     "input": [
      "#load and plot the data from the 67B08 group Fly64,65,66 **SITE 2**\n",
      "fly0064 = rootpath + 'Fly0064/WingNerve_Site2'\n",
      "fly0065 = rootpath + 'Fly0065/WingNerve_Site2'\n",
      "fly0066 = rootpath + 'Fly0066/WingNerve_Site2'\n",
      "for fly in [fly0064,fly0065]:\n",
      "    fn = fly + '/' + os.listdir(fly)[-1]\n",
      "    signals = flb.get_signal_dict(fn)\n",
      "    signal_types = signals.keys()\n",
      "    figure()\n",
      "    plot_trigger_summary(signals,num_sweeps=5)"
     ],
     "language": "python",
     "metadata": {},
     "outputs": [],
     "prompt_number": 116
    },
    {
     "cell_type": "code",
     "collapsed": false,
     "input": [
      "#load and the data from the 81B11 group Fly67,68,69,70 **SITE 2**\n",
      "fly0067 = rootpath + 'Fly0067/WingNerve_Site2'\n",
      "fly0068 = rootpath + 'Fly0068/WingNerve_Site2'\n",
      "fly0069 = rootpath + 'Fly0069/WingNerve_Site2'\n",
      "fly0070 = rootpath + 'Fly0070/WingNerve_Site2'\n",
      "for fly in [fly0068,fly0069,fly0070]:\n",
      "    files = [x for x in os.listdir(fly) if '.abf' in x]\n",
      "    fn = fly + '/' + files[-1]\n",
      "    signals = flb.get_signal_dict(fn)\n",
      "    signal_types = signals.keys()\n",
      "    figure()\n",
      "    plot_trigger_summary(signals,num_sweeps=5)"
     ],
     "language": "python",
     "metadata": {},
     "outputs": [],
     "prompt_number": 125
    },
    {
     "cell_type": "code",
     "collapsed": false,
     "input": [
      "#load and plot the data from the 67B08 group Fly64,65,66 **SITE 1**\n",
      "fly0064 = rootpath + 'Fly0064/WingNerve_Site1'\n",
      "fly0065 = rootpath + 'Fly0065/WingNerve_Site1'\n",
      "fly0066 = rootpath + 'Fly0066/WingNerve_Site1'\n",
      "for fly in [fly0064,fly0065,fly0066]:\n",
      "    fn = fly + '/' + os.listdir(fly)[-1]\n",
      "    signals = flb.get_signal_dict(fn)\n",
      "    signal_types = signals.keys()\n",
      "    figure()\n",
      "    plot_trigger_summary(signals,num_sweeps=5)"
     ],
     "language": "python",
     "metadata": {},
     "outputs": [],
     "prompt_number": 129
    },
    {
     "cell_type": "code",
     "collapsed": false,
     "input": [
      "#load and plot the data from the 81B11 group Fly67,68,69,70 **SITE 1**\n",
      "fly0067 = rootpath + 'Fly0067/WingNerve_Site1'\n",
      "fly0068 = rootpath + 'Fly0068/WingNerve_Site1'\n",
      "fly0069 = rootpath + 'Fly0069/WingNerve_Site1'\n",
      "fly0070 = rootpath + 'Fly0070/WingNerve_Site1'\n",
      "for fly in [fly0068,fly0070]:\n",
      "    fn = fly + '/' + os.listdir(fly)[-1]\n",
      "    signals = flb.get_signal_dict(fn)\n",
      "    signal_types = signals.keys()\n",
      "    figure()\n",
      "    plot_trigger_summary(signals,num_sweeps=5)"
     ],
     "language": "python",
     "metadata": {},
     "outputs": [],
     "prompt_number": 135
    },
    {
     "cell_type": "code",
     "collapsed": false,
     "input": [
      "#load and plot the data from the 81B11 group Fly65,66 **B1 SITE **\n",
      "fly0065 = rootpath + 'Fly0065/B1Stim_B1Record'\n",
      "fly0066 = rootpath + 'Fly0066/B1Stim_B1Record'\n",
      "for fly in [fly0065,fly0066]:\n",
      "    fn = fly + '/' + os.listdir(fly)[0]\n",
      "    signals = flb.get_signal_dict(fn)\n",
      "    signal_types = signals.keys()\n",
      "    figure()\n",
      "    plot_trigger_summary(signals,num_sweeps=5)"
     ],
     "language": "python",
     "metadata": {},
     "outputs": [],
     "prompt_number": 138
    },
    {
     "cell_type": "code",
     "collapsed": false,
     "input": [],
     "language": "python",
     "metadata": {},
     "outputs": []
    },
    {
     "cell_type": "code",
     "collapsed": false,
     "input": [],
     "language": "python",
     "metadata": {},
     "outputs": [],
     "prompt_number": 62
    },
    {
     "cell_type": "code",
     "collapsed": false,
     "input": [],
     "language": "python",
     "metadata": {},
     "outputs": []
    },
    {
     "cell_type": "code",
     "collapsed": false,
     "input": [],
     "language": "python",
     "metadata": {},
     "outputs": [],
     "prompt_number": 62
    },
    {
     "cell_type": "code",
     "collapsed": false,
     "input": [],
     "language": "python",
     "metadata": {},
     "outputs": []
    },
    {
     "cell_type": "code",
     "collapsed": false,
     "input": [],
     "language": "python",
     "metadata": {},
     "outputs": []
    },
    {
     "cell_type": "code",
     "collapsed": false,
     "input": [],
     "language": "python",
     "metadata": {},
     "outputs": []
    },
    {
     "cell_type": "code",
     "collapsed": false,
     "input": [],
     "language": "python",
     "metadata": {},
     "outputs": []
    },
    {
     "cell_type": "code",
     "collapsed": false,
     "input": [
      "#block to plot a couple of subplots with example triggers\n",
      "num_sweeps = 5\n",
      "triggers = flb.idx_by_thresh(signals['Photostim']*-1,-0.5)\n",
      "for i,trig in enumerate(random.sample(triggers[15:],num_sweeps)):\n",
      "    chunkrange = slice(trig[0]-10000,trig[-1]+50000,2)\n",
      "    times = signals['AMsysCh1'][chunkrange].times\n",
      "    times -= times[0]\n",
      "    ax0 = subplot(1+num_sweeps,1,1+i)\n",
      "    plot(times,signals['AMsysCh1'][chunkrange]*-1,color = 'k',alpha = 0.5)\n",
      "    ax0.set_ybound([20,-20])\n",
      "    ax0.set_xbound([0,0.5])\n",
      "    if i is 0:\n",
      "        ax1 = subplot(1+num_sweeps,1,num_sweeps+1,sharex = ax0)\n",
      "        plot(times,signals['Photostim'][chunkrange])\n",
      "        ax1.set_xbound([0,0.5])"
     ],
     "language": "python",
     "metadata": {},
     "outputs": [],
     "prompt_number": 93
    },
    {
     "cell_type": "code",
     "collapsed": false,
     "input": [],
     "language": "python",
     "metadata": {},
     "outputs": []
    },
    {
     "cell_type": "code",
     "collapsed": false,
     "input": [],
     "language": "python",
     "metadata": {},
     "outputs": []
    },
    {
     "cell_type": "code",
     "collapsed": false,
     "input": [],
     "language": "python",
     "metadata": {},
     "outputs": [],
     "prompt_number": 116
    },
    {
     "cell_type": "code",
     "collapsed": false,
     "input": [],
     "language": "python",
     "metadata": {},
     "outputs": [],
     "prompt_number": 116
    },
    {
     "cell_type": "code",
     "collapsed": false,
     "input": [],
     "language": "python",
     "metadata": {},
     "outputs": [],
     "prompt_number": 116
    },
    {
     "cell_type": "code",
     "collapsed": false,
     "input": [
      "#plot the loaded data\n",
      "times = signals['AMsysCh1'].times\n",
      "chunk = where((times<70) & (times > 20))[::100]\n",
      "ax0 = subplot(2,1,1)\n",
      "plot(times[chunk],signals['AMsysCh1'][chunk])\n",
      "ax0.set_ybound([20,-20])\n",
      "ax1 = subplot(2,1,2,sharex = ax0)\n",
      "plot(times[chunk],signals['Photostim'][chunk])"
     ],
     "language": "python",
     "metadata": {},
     "outputs": [
      {
       "output_type": "pyout",
       "prompt_number": 69,
       "text": [
        "[<matplotlib.lines.Line2D at 0x1715bb990>]"
       ]
      }
     ],
     "prompt_number": 69
    },
    {
     "cell_type": "code",
     "collapsed": false,
     "input": [],
     "language": "python",
     "metadata": {},
     "outputs": [],
     "prompt_number": 116
    },
    {
     "cell_type": "code",
     "collapsed": false,
     "input": [],
     "language": "python",
     "metadata": {},
     "outputs": [
      {
       "output_type": "pyout",
       "prompt_number": 105,
       "text": [
        "['Xpos',\n",
        " 'WBSync',\n",
        " 'Photostim',\n",
        " 'Ypos',\n",
        " 'CamSync',\n",
        " 'CamTrig',\n",
        " 'Ph1',\n",
        " 'LeftWing',\n",
        " 'Ph2',\n",
        " 'RightWing',\n",
        " 'Ph0',\n",
        " 'AMsysCh1']"
       ]
      }
     ],
     "prompt_number": 105
    },
    {
     "cell_type": "code",
     "collapsed": false,
     "input": [],
     "language": "python",
     "metadata": {},
     "outputs": []
    }
   ],
   "metadata": {}
  }
 ]
}